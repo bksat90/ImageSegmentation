{
  "nbformat": 4,
  "nbformat_minor": 0,
  "metadata": {
    "colab": {
      "provenance": [],
      "authorship_tag": "ABX9TyPQaaqjT+zM/j7OT/yhkn2c",
      "include_colab_link": true
    },
    "kernelspec": {
      "name": "python3",
      "display_name": "Python 3"
    },
    "language_info": {
      "name": "python"
    }
  },
  "cells": [
    {
      "cell_type": "markdown",
      "metadata": {
        "id": "view-in-github",
        "colab_type": "text"
      },
      "source": [
        "<a href=\"https://colab.research.google.com/github/bksat90/ImageSegmentation/blob/main/Image_Segmentation_1.ipynb\" target=\"_parent\"><img src=\"https://colab.research.google.com/assets/colab-badge.svg\" alt=\"Open In Colab\"/></a>"
      ]
    },
    {
      "cell_type": "code",
      "execution_count": 1,
      "metadata": {
        "colab": {
          "base_uri": "https://localhost:8080/"
        },
        "id": "fgXV7CeRoTrV",
        "outputId": "49098190-73c3-4126-92e9-fdadebf9e45c"
      },
      "outputs": [
        {
          "output_type": "stream",
          "name": "stdout",
          "text": [
            "\u001b[?25l     \u001b[90m━━━━━━━━━━━━━━━━━━━━━━━━━━━━━━━━━━━━━━━━\u001b[0m \u001b[32m0.0/650.7 kB\u001b[0m \u001b[31m?\u001b[0m eta \u001b[36m-:--:--\u001b[0m\r\u001b[2K     \u001b[91m━━━━━━━━\u001b[0m\u001b[91m╸\u001b[0m\u001b[90m━━━━━━━━━━━━━━━━━━━━━━━━━━━━━━━\u001b[0m \u001b[32m143.4/650.7 kB\u001b[0m \u001b[31m4.1 MB/s\u001b[0m eta \u001b[36m0:00:01\u001b[0m\r\u001b[2K     \u001b[91m━━━━━━━━━━━━━━━━━━━━━━━━━━━━━━━━━━━━━━━\u001b[0m\u001b[91m╸\u001b[0m \u001b[32m645.1/650.7 kB\u001b[0m \u001b[31m11.7 MB/s\u001b[0m eta \u001b[36m0:00:01\u001b[0m\r\u001b[2K     \u001b[90m━━━━━━━━━━━━━━━━━━━━━━━━━━━━━━━━━━━━━━━━\u001b[0m \u001b[32m650.7/650.7 kB\u001b[0m \u001b[31m8.1 MB/s\u001b[0m eta \u001b[36m0:00:00\u001b[0m\n",
            "\u001b[?25h\u001b[?25l     \u001b[90m━━━━━━━━━━━━━━━━━━━━━━━━━━━━━━━━━━━━━━━━\u001b[0m \u001b[32m0.0/950.8 kB\u001b[0m \u001b[31m?\u001b[0m eta \u001b[36m-:--:--\u001b[0m\r\u001b[2K     \u001b[90m━━━━━━━━━━━━━━━━━━━━━━━━━━━━━━━━━━━━━━━━\u001b[0m \u001b[32m950.8/950.8 kB\u001b[0m \u001b[31m37.4 MB/s\u001b[0m eta \u001b[36m0:00:00\u001b[0m\n",
            "\u001b[?25h"
          ]
        }
      ],
      "source": [
        "# Installation of KerasCV.\n",
        "!pip install -q --upgrade keras-cv"
      ]
    },
    {
      "cell_type": "code",
      "source": [
        "# import libraries\n",
        "import random\n",
        "import os\n",
        "import numpy as np\n",
        "import matplotlib.pyplot as plt\n",
        "import skimage.io as io\n",
        "import matplotlib\n",
        "import matplotlib.pyplot as plt\n",
        "import matplotlib.patches as patches\n",
        "import matplotlib.colors as colors\n",
        "import seaborn as sns\n",
        "import keras\n",
        "import keras_cv\n",
        "\n",
        "from keras import layers\n",
        "from keras_cv import bounding_box\n",
        "from keras_cv import visualization\n",
        "from random import shuffle\n",
        "from PIL import Image\n",
        "from pycocotools.coco import COCO\n",
        "from pycocotools.coco import COCO\n",
        "\n",
        "%matplotlib inline"
      ],
      "metadata": {
        "colab": {
          "base_uri": "https://localhost:8080/"
        },
        "id": "McsDpYwooW8r",
        "outputId": "00b214fa-63b5-4eed-9288-8acce1b32186"
      },
      "execution_count": 2,
      "outputs": [
        {
          "output_type": "stream",
          "name": "stdout",
          "text": [
            "Using TensorFlow backend\n"
          ]
        }
      ]
    },
    {
      "cell_type": "code",
      "source": [
        "# Import and mount Google Drive.\n",
        "from google.colab import drive\n",
        "drive.mount(\"/content/drive\")"
      ],
      "metadata": {
        "colab": {
          "base_uri": "https://localhost:8080/"
        },
        "id": "oi7Ee9oYoZx5",
        "outputId": "ba11b68a-1737-4327-8094-c394792b674c"
      },
      "execution_count": 3,
      "outputs": [
        {
          "output_type": "stream",
          "name": "stdout",
          "text": [
            "Mounted at /content/drive\n"
          ]
        }
      ]
    },
    {
      "cell_type": "code",
      "source": [
        "# # Unzip the dataset file and store it in a folder called images.\n",
        "# !unzip \"/content/drive/MyDrive/RMiDS/RM_Segmentation_Assignment_dataset.zip\" -d \"/content/drive/MyDrive/RMiDS/coco2017/\""
      ],
      "metadata": {
        "id": "SXXIOrcIyM--"
      },
      "execution_count": 4,
      "outputs": []
    },
    {
      "cell_type": "code",
      "source": [
        "# Load paths for the COCO dataset annotation files\n",
        "train_data_path = \"/content/drive/MyDrive/RMiDS/coco2017/train-300\"\n",
        "train_annotation_file = f\"{train_data_path}/labels.json\"\n",
        "coco_train = COCO(train_annotation_file)\n",
        "\n",
        "val_data_path = \"/content/drive/MyDrive/RMiDS/coco2017/validation-300\"\n",
        "val_annotation_file = f\"{train_data_path}/labels.json\"\n",
        "coco_val = COCO(val_annotation_file)"
      ],
      "metadata": {
        "colab": {
          "base_uri": "https://localhost:8080/"
        },
        "id": "CNCqy-NNoqJY",
        "outputId": "4f007d77-5f0c-4630-fb82-009ede2fd0e3"
      },
      "execution_count": 5,
      "outputs": [
        {
          "output_type": "stream",
          "name": "stdout",
          "text": [
            "loading annotations into memory...\n",
            "Done (t=0.56s)\n",
            "creating index...\n",
            "index created!\n",
            "loading annotations into memory...\n",
            "Done (t=0.05s)\n",
            "creating index...\n",
            "index created!\n"
          ]
        }
      ]
    },
    {
      "cell_type": "code",
      "source": [
        "def EDAbar(coco):\n",
        "  \"\"\"This function generates exploratory data analysis in bar chart\n",
        "     coco - object for train or test data set\n",
        "  \"\"\"\n",
        "\n",
        "  target_classes = [\"cake\", \"car\", \"dog\", \"person\"]\n",
        "  # load the categories\n",
        "  catIDs = coco.getCatIds(catNms=target_classes)\n",
        "  cats = coco.loadCats(catIDs)\n",
        "\n",
        "  # category names\n",
        "  category_names = [cat['name'].title() for cat in cats]\n",
        "\n",
        "  # Get category counts\n",
        "  category_counts = [coco.getImgIds(catIds=[cat['id']]) for cat in cats]\n",
        "  category_counts = [len(img_ids) for img_ids in category_counts]\n",
        "\n",
        "  plt.figure()\n",
        "  plt.bar(category_names, category_counts, align=\"center\", color=\"blue\")\n",
        "  plt.xlabel('Count',fontsize=10)\n",
        "  plt.ylabel('Category',fontsize=10)\n",
        "  plt.title('Category Distribution in COCO Dataset',fontsize=10)\n",
        "\n",
        "  plt.show()"
      ],
      "metadata": {
        "id": "Akx-AphJs3lD"
      },
      "execution_count": 10,
      "outputs": []
    },
    {
      "cell_type": "code",
      "source": [
        "# EDA for training data set\n",
        "EDAbar(coco_train)"
      ],
      "metadata": {
        "colab": {
          "base_uri": "https://localhost:8080/",
          "height": 469
        },
        "id": "gh2V9pgxt00r",
        "outputId": "ce1d4280-21f8-4c49-92ae-7af399525dee"
      },
      "execution_count": 11,
      "outputs": [
        {
          "output_type": "display_data",
          "data": {
            "text/plain": [
              "<Figure size 640x480 with 1 Axes>"
            ],
            "image/png": "[encoded data removed]"
          },
          "metadata": {}
        }
      ]
    },
    {
      "cell_type": "code",
      "source": [
        "# EDA for training data set\n",
        "EDAbar(coco_val)"
      ],
      "metadata": {
        "colab": {
          "base_uri": "https://localhost:8080/",
          "height": 469
        },
        "id": "o_hC-mVmuFn-",
        "outputId": "a6ff5f72-688b-4478-c400-668a74c953de"
      },
      "execution_count": 12,
      "outputs": [
        {
          "output_type": "display_data",
          "data": {
            "text/plain": [
              "<Figure size 640x480 with 1 Axes>"
            ],
            "image/png": "[encoded data removed]"
          },
          "metadata": {}
        }
      ]
    },
    {
      "cell_type": "code",
      "source": [
        "target_classes = [\"cake\", \"car\", \"dog\", \"person\"]\n",
        "train_images = []\n",
        "val_images =[]\n",
        "\n",
        "# Iterate over each individual class in the list\n",
        "for class_name in target_classes:\n",
        "    # training data set\n",
        "    train_images_categories = coco_train.getCatIds(catNms=class_name)\n",
        "    train_images_IDs = coco_train.getImgIds(catIds=train_images_categories)\n",
        "    train_images += coco_train.loadImgs(train_images_IDs)\n",
        "\n",
        "    # test data set\n",
        "    val_images_categories = coco_val.getCatIds(catNms=class_name)\n",
        "    val_images_IDs = coco_val.getImgIds(catIds=val_images_categories)\n",
        "    val_images += coco_val.loadImgs(val_images_IDs)"
      ],
      "metadata": {
        "id": "TaLLK4LUpAxL"
      },
      "execution_count": 17,
      "outputs": []
    },
    {
      "cell_type": "code",
      "source": [],
      "metadata": {
        "colab": {
          "base_uri": "https://localhost:8080/"
        },
        "id": "hS-yjY8vpE3B",
        "outputId": "33bdb887-9dd6-42fd-e052-1b4fa6c6d56f"
      },
      "execution_count": 18,
      "outputs": [
        {
          "output_type": "execute_result",
          "data": {
            "text/plain": [
              "566"
            ]
          },
          "metadata": {},
          "execution_count": 18
        }
      ]
    },
    {
      "cell_type": "code",
      "source": [],
      "metadata": {
        "id": "cYu5ZYSz0cJJ"
      },
      "execution_count": null,
      "outputs": []
    }
  ]
}